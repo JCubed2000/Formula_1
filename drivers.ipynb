{
 "cells": [
  {
   "cell_type": "code",
   "execution_count": 1,
   "metadata": {
    "ExecuteTime": {
     "end_time": "2020-04-28T18:23:16.034355Z",
     "start_time": "2020-04-28T18:23:15.535842Z"
    }
   },
   "outputs": [],
   "source": [
    "import pandas as pd\n",
    "import numpy as np\n",
    "import requests"
   ]
  },
  {
   "cell_type": "code",
   "execution_count": 5,
   "metadata": {
    "ExecuteTime": {
     "end_time": "2020-04-28T18:36:28.889207Z",
     "start_time": "2020-04-28T18:36:25.125327Z"
    }
   },
   "outputs": [
    {
     "name": "stdout",
     "output_type": "stream",
     "text": [
      "(1965, 6)\n"
     ]
    }
   ],
   "source": [
    "drivers = {'season': [],\n",
    "           'driver_id': [],\n",
    "          'name': [],\n",
    "          'surname': [],\n",
    "          'date_of_birth': [],\n",
    "          'nationality': []}\n",
    "\n",
    "for year in list(range(1950,2020)):\n",
    "    \n",
    "    url = 'http://ergast.com/api/f1/{}/drivers.json'\n",
    "    r = requests.get(url.format(year))\n",
    "    json = r.json()\n",
    "\n",
    "    for item in json['MRData']['DriverTable']['Drivers']:\n",
    "        try:\n",
    "            drivers['season'].append(int(json['MRData']['DriverTable']['season']))\n",
    "        except:\n",
    "            drivers['season'].append(None)\n",
    "\n",
    "        try:\n",
    "            drivers['driver_id'].append(item['driverId'])\n",
    "        except:\n",
    "            drivers['driver_id'].append(None)\n",
    "                                         \n",
    "        try:\n",
    "            drivers['name'].append(item['givenName'])\n",
    "        except:\n",
    "            drivers['name'].append(None)\n",
    "                \n",
    "        try:\n",
    "            drivers['surname'].append(item['familyName'])\n",
    "        except:\n",
    "            drivers['surname'].append(None)\n",
    "                                         \n",
    "        try:\n",
    "            drivers['date_of_birth'].append(item['dateOfBirth'])\n",
    "        except:\n",
    "            drivers['date_of_birth'].append(None)\n",
    "            \n",
    "        try:\n",
    "            drivers['nationality'].append(item['nationality'])\n",
    "        except:\n",
    "            drivers['nationality'].append(None)\n",
    "            \n",
    "drivers = pd.DataFrame(drivers)\n",
    "print(drivers.shape)"
   ]
  },
  {
   "cell_type": "code",
   "execution_count": 6,
   "metadata": {
    "ExecuteTime": {
     "end_time": "2020-04-28T18:36:37.850721Z",
     "start_time": "2020-04-28T18:36:37.827187Z"
    }
   },
   "outputs": [
    {
     "data": {
      "text/html": [
       "<div>\n",
       "<style scoped>\n",
       "    .dataframe tbody tr th:only-of-type {\n",
       "        vertical-align: middle;\n",
       "    }\n",
       "\n",
       "    .dataframe tbody tr th {\n",
       "        vertical-align: top;\n",
       "    }\n",
       "\n",
       "    .dataframe thead th {\n",
       "        text-align: right;\n",
       "    }\n",
       "</style>\n",
       "<table border=\"1\" class=\"dataframe\">\n",
       "  <thead>\n",
       "    <tr style=\"text-align: right;\">\n",
       "      <th></th>\n",
       "      <th>season</th>\n",
       "      <th>driver_id</th>\n",
       "      <th>name</th>\n",
       "      <th>surname</th>\n",
       "      <th>date_of_birth</th>\n",
       "      <th>nationality</th>\n",
       "    </tr>\n",
       "  </thead>\n",
       "  <tbody>\n",
       "    <tr>\n",
       "      <th>0</th>\n",
       "      <td>1950</td>\n",
       "      <td>ader</td>\n",
       "      <td>Walt</td>\n",
       "      <td>Ader</td>\n",
       "      <td>1913-12-15</td>\n",
       "      <td>American</td>\n",
       "    </tr>\n",
       "    <tr>\n",
       "      <th>1</th>\n",
       "      <td>1950</td>\n",
       "      <td>agabashian</td>\n",
       "      <td>Fred</td>\n",
       "      <td>Agabashian</td>\n",
       "      <td>1913-08-21</td>\n",
       "      <td>American</td>\n",
       "    </tr>\n",
       "    <tr>\n",
       "      <th>2</th>\n",
       "      <td>1950</td>\n",
       "      <td>ascari</td>\n",
       "      <td>Alberto</td>\n",
       "      <td>Ascari</td>\n",
       "      <td>1918-07-13</td>\n",
       "      <td>Italian</td>\n",
       "    </tr>\n",
       "    <tr>\n",
       "      <th>3</th>\n",
       "      <td>1950</td>\n",
       "      <td>banks</td>\n",
       "      <td>Henry</td>\n",
       "      <td>Banks</td>\n",
       "      <td>1913-06-14</td>\n",
       "      <td>American</td>\n",
       "    </tr>\n",
       "    <tr>\n",
       "      <th>4</th>\n",
       "      <td>1950</td>\n",
       "      <td>bettenhausen</td>\n",
       "      <td>Tony</td>\n",
       "      <td>Bettenhausen</td>\n",
       "      <td>1916-09-12</td>\n",
       "      <td>American</td>\n",
       "    </tr>\n",
       "  </tbody>\n",
       "</table>\n",
       "</div>"
      ],
      "text/plain": [
       "   season     driver_id     name       surname date_of_birth nationality\n",
       "0    1950          ader     Walt          Ader    1913-12-15    American\n",
       "1    1950    agabashian     Fred    Agabashian    1913-08-21    American\n",
       "2    1950        ascari  Alberto        Ascari    1918-07-13     Italian\n",
       "3    1950         banks    Henry         Banks    1913-06-14    American\n",
       "4    1950  bettenhausen     Tony  Bettenhausen    1916-09-12    American"
      ]
     },
     "execution_count": 6,
     "metadata": {},
     "output_type": "execute_result"
    }
   ],
   "source": [
    "drivers.head()"
   ]
  },
  {
   "cell_type": "code",
   "execution_count": 7,
   "metadata": {
    "ExecuteTime": {
     "end_time": "2020-04-28T18:36:51.345710Z",
     "start_time": "2020-04-28T18:36:51.329466Z"
    }
   },
   "outputs": [
    {
     "data": {
      "text/html": [
       "<div>\n",
       "<style scoped>\n",
       "    .dataframe tbody tr th:only-of-type {\n",
       "        vertical-align: middle;\n",
       "    }\n",
       "\n",
       "    .dataframe tbody tr th {\n",
       "        vertical-align: top;\n",
       "    }\n",
       "\n",
       "    .dataframe thead th {\n",
       "        text-align: right;\n",
       "    }\n",
       "</style>\n",
       "<table border=\"1\" class=\"dataframe\">\n",
       "  <thead>\n",
       "    <tr style=\"text-align: right;\">\n",
       "      <th></th>\n",
       "      <th>season</th>\n",
       "      <th>driver_id</th>\n",
       "      <th>name</th>\n",
       "      <th>surname</th>\n",
       "      <th>date_of_birth</th>\n",
       "      <th>nationality</th>\n",
       "    </tr>\n",
       "  </thead>\n",
       "  <tbody>\n",
       "    <tr>\n",
       "      <th>1960</th>\n",
       "      <td>2019</td>\n",
       "      <td>russell</td>\n",
       "      <td>George</td>\n",
       "      <td>Russell</td>\n",
       "      <td>1998-02-15</td>\n",
       "      <td>British</td>\n",
       "    </tr>\n",
       "    <tr>\n",
       "      <th>1961</th>\n",
       "      <td>2019</td>\n",
       "      <td>sainz</td>\n",
       "      <td>Carlos</td>\n",
       "      <td>Sainz</td>\n",
       "      <td>1994-09-01</td>\n",
       "      <td>Spanish</td>\n",
       "    </tr>\n",
       "    <tr>\n",
       "      <th>1962</th>\n",
       "      <td>2019</td>\n",
       "      <td>stroll</td>\n",
       "      <td>Lance</td>\n",
       "      <td>Stroll</td>\n",
       "      <td>1998-10-29</td>\n",
       "      <td>Canadian</td>\n",
       "    </tr>\n",
       "    <tr>\n",
       "      <th>1963</th>\n",
       "      <td>2019</td>\n",
       "      <td>max_verstappen</td>\n",
       "      <td>Max</td>\n",
       "      <td>Verstappen</td>\n",
       "      <td>1997-09-30</td>\n",
       "      <td>Dutch</td>\n",
       "    </tr>\n",
       "    <tr>\n",
       "      <th>1964</th>\n",
       "      <td>2019</td>\n",
       "      <td>vettel</td>\n",
       "      <td>Sebastian</td>\n",
       "      <td>Vettel</td>\n",
       "      <td>1987-07-03</td>\n",
       "      <td>German</td>\n",
       "    </tr>\n",
       "  </tbody>\n",
       "</table>\n",
       "</div>"
      ],
      "text/plain": [
       "      season       driver_id       name     surname date_of_birth nationality\n",
       "1960    2019         russell     George     Russell    1998-02-15     British\n",
       "1961    2019           sainz     Carlos       Sainz    1994-09-01     Spanish\n",
       "1962    2019          stroll      Lance      Stroll    1998-10-29    Canadian\n",
       "1963    2019  max_verstappen        Max  Verstappen    1997-09-30       Dutch\n",
       "1964    2019          vettel  Sebastian      Vettel    1987-07-03      German"
      ]
     },
     "execution_count": 7,
     "metadata": {},
     "output_type": "execute_result"
    }
   ],
   "source": [
    "drivers.tail()"
   ]
  },
  {
   "cell_type": "code",
   "execution_count": 9,
   "metadata": {
    "ExecuteTime": {
     "end_time": "2020-04-28T18:38:03.475870Z",
     "start_time": "2020-04-28T18:38:03.465559Z"
    }
   },
   "outputs": [],
   "source": [
    "drivers['full_name'] = drivers.name + ' ' + drivers.surname"
   ]
  },
  {
   "cell_type": "code",
   "execution_count": 10,
   "metadata": {
    "ExecuteTime": {
     "end_time": "2020-04-28T18:38:08.520633Z",
     "start_time": "2020-04-28T18:38:08.490104Z"
    }
   },
   "outputs": [
    {
     "data": {
      "text/html": [
       "<div>\n",
       "<style scoped>\n",
       "    .dataframe tbody tr th:only-of-type {\n",
       "        vertical-align: middle;\n",
       "    }\n",
       "\n",
       "    .dataframe tbody tr th {\n",
       "        vertical-align: top;\n",
       "    }\n",
       "\n",
       "    .dataframe thead th {\n",
       "        text-align: right;\n",
       "    }\n",
       "</style>\n",
       "<table border=\"1\" class=\"dataframe\">\n",
       "  <thead>\n",
       "    <tr style=\"text-align: right;\">\n",
       "      <th></th>\n",
       "      <th>season</th>\n",
       "      <th>driver_id</th>\n",
       "      <th>name</th>\n",
       "      <th>surname</th>\n",
       "      <th>date_of_birth</th>\n",
       "      <th>nationality</th>\n",
       "      <th>full_name</th>\n",
       "    </tr>\n",
       "  </thead>\n",
       "  <tbody>\n",
       "    <tr>\n",
       "      <th>0</th>\n",
       "      <td>1950</td>\n",
       "      <td>ader</td>\n",
       "      <td>Walt</td>\n",
       "      <td>Ader</td>\n",
       "      <td>1913-12-15</td>\n",
       "      <td>American</td>\n",
       "      <td>Walt Ader</td>\n",
       "    </tr>\n",
       "    <tr>\n",
       "      <th>1</th>\n",
       "      <td>1950</td>\n",
       "      <td>agabashian</td>\n",
       "      <td>Fred</td>\n",
       "      <td>Agabashian</td>\n",
       "      <td>1913-08-21</td>\n",
       "      <td>American</td>\n",
       "      <td>Fred Agabashian</td>\n",
       "    </tr>\n",
       "    <tr>\n",
       "      <th>2</th>\n",
       "      <td>1950</td>\n",
       "      <td>ascari</td>\n",
       "      <td>Alberto</td>\n",
       "      <td>Ascari</td>\n",
       "      <td>1918-07-13</td>\n",
       "      <td>Italian</td>\n",
       "      <td>Alberto Ascari</td>\n",
       "    </tr>\n",
       "    <tr>\n",
       "      <th>3</th>\n",
       "      <td>1950</td>\n",
       "      <td>banks</td>\n",
       "      <td>Henry</td>\n",
       "      <td>Banks</td>\n",
       "      <td>1913-06-14</td>\n",
       "      <td>American</td>\n",
       "      <td>Henry Banks</td>\n",
       "    </tr>\n",
       "    <tr>\n",
       "      <th>4</th>\n",
       "      <td>1950</td>\n",
       "      <td>bettenhausen</td>\n",
       "      <td>Tony</td>\n",
       "      <td>Bettenhausen</td>\n",
       "      <td>1916-09-12</td>\n",
       "      <td>American</td>\n",
       "      <td>Tony Bettenhausen</td>\n",
       "    </tr>\n",
       "    <tr>\n",
       "      <th>...</th>\n",
       "      <td>...</td>\n",
       "      <td>...</td>\n",
       "      <td>...</td>\n",
       "      <td>...</td>\n",
       "      <td>...</td>\n",
       "      <td>...</td>\n",
       "      <td>...</td>\n",
       "    </tr>\n",
       "    <tr>\n",
       "      <th>1960</th>\n",
       "      <td>2019</td>\n",
       "      <td>russell</td>\n",
       "      <td>George</td>\n",
       "      <td>Russell</td>\n",
       "      <td>1998-02-15</td>\n",
       "      <td>British</td>\n",
       "      <td>George Russell</td>\n",
       "    </tr>\n",
       "    <tr>\n",
       "      <th>1961</th>\n",
       "      <td>2019</td>\n",
       "      <td>sainz</td>\n",
       "      <td>Carlos</td>\n",
       "      <td>Sainz</td>\n",
       "      <td>1994-09-01</td>\n",
       "      <td>Spanish</td>\n",
       "      <td>Carlos Sainz</td>\n",
       "    </tr>\n",
       "    <tr>\n",
       "      <th>1962</th>\n",
       "      <td>2019</td>\n",
       "      <td>stroll</td>\n",
       "      <td>Lance</td>\n",
       "      <td>Stroll</td>\n",
       "      <td>1998-10-29</td>\n",
       "      <td>Canadian</td>\n",
       "      <td>Lance Stroll</td>\n",
       "    </tr>\n",
       "    <tr>\n",
       "      <th>1963</th>\n",
       "      <td>2019</td>\n",
       "      <td>max_verstappen</td>\n",
       "      <td>Max</td>\n",
       "      <td>Verstappen</td>\n",
       "      <td>1997-09-30</td>\n",
       "      <td>Dutch</td>\n",
       "      <td>Max Verstappen</td>\n",
       "    </tr>\n",
       "    <tr>\n",
       "      <th>1964</th>\n",
       "      <td>2019</td>\n",
       "      <td>vettel</td>\n",
       "      <td>Sebastian</td>\n",
       "      <td>Vettel</td>\n",
       "      <td>1987-07-03</td>\n",
       "      <td>German</td>\n",
       "      <td>Sebastian Vettel</td>\n",
       "    </tr>\n",
       "  </tbody>\n",
       "</table>\n",
       "<p>1965 rows × 7 columns</p>\n",
       "</div>"
      ],
      "text/plain": [
       "      season       driver_id       name       surname date_of_birth  \\\n",
       "0       1950            ader       Walt          Ader    1913-12-15   \n",
       "1       1950      agabashian       Fred    Agabashian    1913-08-21   \n",
       "2       1950          ascari    Alberto        Ascari    1918-07-13   \n",
       "3       1950           banks      Henry         Banks    1913-06-14   \n",
       "4       1950    bettenhausen       Tony  Bettenhausen    1916-09-12   \n",
       "...      ...             ...        ...           ...           ...   \n",
       "1960    2019         russell     George       Russell    1998-02-15   \n",
       "1961    2019           sainz     Carlos         Sainz    1994-09-01   \n",
       "1962    2019          stroll      Lance        Stroll    1998-10-29   \n",
       "1963    2019  max_verstappen        Max    Verstappen    1997-09-30   \n",
       "1964    2019          vettel  Sebastian        Vettel    1987-07-03   \n",
       "\n",
       "     nationality          full_name  \n",
       "0       American          Walt Ader  \n",
       "1       American    Fred Agabashian  \n",
       "2        Italian     Alberto Ascari  \n",
       "3       American        Henry Banks  \n",
       "4       American  Tony Bettenhausen  \n",
       "...          ...                ...  \n",
       "1960     British     George Russell  \n",
       "1961     Spanish       Carlos Sainz  \n",
       "1962    Canadian       Lance Stroll  \n",
       "1963       Dutch     Max Verstappen  \n",
       "1964      German   Sebastian Vettel  \n",
       "\n",
       "[1965 rows x 7 columns]"
      ]
     },
     "execution_count": 10,
     "metadata": {},
     "output_type": "execute_result"
    }
   ],
   "source": [
    "drivers"
   ]
  },
  {
   "cell_type": "code",
   "execution_count": 11,
   "metadata": {
    "ExecuteTime": {
     "end_time": "2020-04-28T18:39:03.942787Z",
     "start_time": "2020-04-28T18:39:03.926789Z"
    }
   },
   "outputs": [],
   "source": [
    "drivers.to_csv('drivers.csv', index = False)"
   ]
  },
  {
   "cell_type": "code",
   "execution_count": null,
   "metadata": {},
   "outputs": [],
   "source": []
  }
 ],
 "metadata": {
  "kernelspec": {
   "display_name": "Python 3",
   "language": "python",
   "name": "python3"
  },
  "language_info": {
   "codemirror_mode": {
    "name": "ipython",
    "version": 3
   },
   "file_extension": ".py",
   "mimetype": "text/x-python",
   "name": "python",
   "nbconvert_exporter": "python",
   "pygments_lexer": "ipython3",
   "version": "3.7.1"
  },
  "varInspector": {
   "cols": {
    "lenName": 16,
    "lenType": 16,
    "lenVar": 40
   },
   "kernels_config": {
    "python": {
     "delete_cmd_postfix": "",
     "delete_cmd_prefix": "del ",
     "library": "var_list.py",
     "varRefreshCmd": "print(var_dic_list())"
    },
    "r": {
     "delete_cmd_postfix": ") ",
     "delete_cmd_prefix": "rm(",
     "library": "var_list.r",
     "varRefreshCmd": "cat(var_dic_list()) "
    }
   },
   "types_to_exclude": [
    "module",
    "function",
    "builtin_function_or_method",
    "instance",
    "_Feature"
   ],
   "window_display": false
  }
 },
 "nbformat": 4,
 "nbformat_minor": 4
}
